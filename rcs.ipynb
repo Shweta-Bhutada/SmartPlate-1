{
  "nbformat": 4,
  "nbformat_minor": 0,
  "metadata": {
    "colab": {
      "provenance": []
    },
    "kernelspec": {
      "name": "python3",
      "display_name": "Python 3"
    },
    "language_info": {
      "name": "python"
    }
  },
  "cells": [
    {
      "cell_type": "code",
      "execution_count": null,
      "metadata": {
        "id": "IrN51Chwa-33"
      },
      "outputs": [],
      "source": [
        "import pandas as pd\n",
        "import numpy as np\n",
        "import ast\n",
        "import re\n",
        "import nltk"
      ]
    },
    {
      "cell_type": "code",
      "source": [
        "'''# Open the CSV file in a text editor\n",
        "with open('food.csv', 'r') as f:\n",
        "    lines = f.readlines()\n",
        "\n",
        "# Find the line that contains the error\n",
        "error_line = lines[2501]\n",
        "\n",
        "# Fix the quotation marks in the line\n",
        "fixed_line = error_line.replace('\"', '\\\"')\n",
        "\n",
        "# Write the fixed line back to the CSV file\n",
        "lines[2501] = fixed_line\n",
        "\n",
        "# Save the changes to the CSV file\n",
        "with open('food.csv', 'w') as f:\n",
        "    f.writelines(lines)'''"
      ],
      "metadata": {
        "id": "DNvznGOkFKd2"
      },
      "execution_count": null,
      "outputs": []
    },
    {
      "cell_type": "code",
      "source": [
        "import pandas as pd\n",
        "\n",
        "# Specify parameters as needed\n",
        "recipes = pd.read_csv('food.csv', delimiter=',', encoding='utf-8', quotechar='\"')\n",
        "\n",
        "# Continue with your data processing\n"
      ],
      "metadata": {
        "id": "ltDx21ZDHLAa"
      },
      "execution_count": null,
      "outputs": []
    },
    {
      "cell_type": "code",
      "source": [
        "recipes = pd.read_csv('food.csv')"
      ],
      "metadata": {
        "id": "UXcnNrAJbX7M"
      },
      "execution_count": null,
      "outputs": []
    },
    {
      "cell_type": "code",
      "source": [
        "recipes.head()"
      ],
      "metadata": {
        "colab": {
          "base_uri": "https://localhost:8080/",
          "height": 293
        },
        "id": "QswfdFoibaoi",
        "outputId": "014b50b0-9971-4f96-9646-9b81cae606e5"
      },
      "execution_count": null,
      "outputs": [
        {
          "output_type": "execute_result",
          "data": {
            "text/plain": [
              "   id                                              title  \\\n",
              "0   0  Miso-Butter Roast Chicken With Acorn Squash Pa...   \n",
              "1   1                    Crispy Salt and Pepper Potatoes   \n",
              "2   2                        Thanksgiving Mac and Cheese   \n",
              "3   3                 Italian Sausage and Bread Stuffing   \n",
              "4   4                                       Newton's Law   \n",
              "\n",
              "                                         ingredients  \\\n",
              "0  ['1 (3½–4-lb.) whole chicken', '2¾ tsp. kosher...   \n",
              "1  ['2 large egg whites', '1 pound new potatoes (...   \n",
              "2  ['1 cup evaporated milk', '1 cup whole milk', ...   \n",
              "3  ['1 (¾- to 1-pound) round Italian loaf, cut in...   \n",
              "4  ['1 teaspoon dark brown sugar', '1 teaspoon ho...   \n",
              "\n",
              "                                        Instructions  \\\n",
              "0  Pat chicken dry with paper towels, season all ...   \n",
              "1  Preheat oven to 400°F and line a rimmed baking...   \n",
              "2  Place a rack in middle of oven; preheat to 400...   \n",
              "3  Preheat oven to 350°F with rack in middle. Gen...   \n",
              "4  Stir together brown sugar and hot water in a c...   \n",
              "\n",
              "                                          image_name  \\\n",
              "0  miso-butter-roast-chicken-acorn-squash-panzanella   \n",
              "1         crispy-salt-and-pepper-potatoes-dan-kluger   \n",
              "2         thanksgiving-mac-and-cheese-erick-williams   \n",
              "3          italian-sausage-and-bread-stuffing-240559   \n",
              "4                 newtons-law-apple-bourbon-cocktail   \n",
              "\n",
              "                                 cleaned_ingredients  \n",
              "0  ['1 (3½–4-lb.) whole chicken', '2¾ tsp. kosher...  \n",
              "1  ['2 large egg whites', '1 pound new potatoes (...  \n",
              "2  ['1 cup evaporated milk', '1 cup whole milk', ...  \n",
              "3  ['1 (¾- to 1-pound) round Italian loaf, cut in...  \n",
              "4  ['1 teaspoon dark brown sugar', '1 teaspoon ho...  "
            ],
            "text/html": [
              "\n",
              "  <div id=\"df-195a1de3-422c-420c-8d5e-8f18bab13839\" class=\"colab-df-container\">\n",
              "    <div>\n",
              "<style scoped>\n",
              "    .dataframe tbody tr th:only-of-type {\n",
              "        vertical-align: middle;\n",
              "    }\n",
              "\n",
              "    .dataframe tbody tr th {\n",
              "        vertical-align: top;\n",
              "    }\n",
              "\n",
              "    .dataframe thead th {\n",
              "        text-align: right;\n",
              "    }\n",
              "</style>\n",
              "<table border=\"1\" class=\"dataframe\">\n",
              "  <thead>\n",
              "    <tr style=\"text-align: right;\">\n",
              "      <th></th>\n",
              "      <th>id</th>\n",
              "      <th>title</th>\n",
              "      <th>ingredients</th>\n",
              "      <th>Instructions</th>\n",
              "      <th>image_name</th>\n",
              "      <th>cleaned_ingredients</th>\n",
              "    </tr>\n",
              "  </thead>\n",
              "  <tbody>\n",
              "    <tr>\n",
              "      <th>0</th>\n",
              "      <td>0</td>\n",
              "      <td>Miso-Butter Roast Chicken With Acorn Squash Pa...</td>\n",
              "      <td>['1 (3½–4-lb.) whole chicken', '2¾ tsp. kosher...</td>\n",
              "      <td>Pat chicken dry with paper towels, season all ...</td>\n",
              "      <td>miso-butter-roast-chicken-acorn-squash-panzanella</td>\n",
              "      <td>['1 (3½–4-lb.) whole chicken', '2¾ tsp. kosher...</td>\n",
              "    </tr>\n",
              "    <tr>\n",
              "      <th>1</th>\n",
              "      <td>1</td>\n",
              "      <td>Crispy Salt and Pepper Potatoes</td>\n",
              "      <td>['2 large egg whites', '1 pound new potatoes (...</td>\n",
              "      <td>Preheat oven to 400°F and line a rimmed baking...</td>\n",
              "      <td>crispy-salt-and-pepper-potatoes-dan-kluger</td>\n",
              "      <td>['2 large egg whites', '1 pound new potatoes (...</td>\n",
              "    </tr>\n",
              "    <tr>\n",
              "      <th>2</th>\n",
              "      <td>2</td>\n",
              "      <td>Thanksgiving Mac and Cheese</td>\n",
              "      <td>['1 cup evaporated milk', '1 cup whole milk', ...</td>\n",
              "      <td>Place a rack in middle of oven; preheat to 400...</td>\n",
              "      <td>thanksgiving-mac-and-cheese-erick-williams</td>\n",
              "      <td>['1 cup evaporated milk', '1 cup whole milk', ...</td>\n",
              "    </tr>\n",
              "    <tr>\n",
              "      <th>3</th>\n",
              "      <td>3</td>\n",
              "      <td>Italian Sausage and Bread Stuffing</td>\n",
              "      <td>['1 (¾- to 1-pound) round Italian loaf, cut in...</td>\n",
              "      <td>Preheat oven to 350°F with rack in middle. Gen...</td>\n",
              "      <td>italian-sausage-and-bread-stuffing-240559</td>\n",
              "      <td>['1 (¾- to 1-pound) round Italian loaf, cut in...</td>\n",
              "    </tr>\n",
              "    <tr>\n",
              "      <th>4</th>\n",
              "      <td>4</td>\n",
              "      <td>Newton's Law</td>\n",
              "      <td>['1 teaspoon dark brown sugar', '1 teaspoon ho...</td>\n",
              "      <td>Stir together brown sugar and hot water in a c...</td>\n",
              "      <td>newtons-law-apple-bourbon-cocktail</td>\n",
              "      <td>['1 teaspoon dark brown sugar', '1 teaspoon ho...</td>\n",
              "    </tr>\n",
              "  </tbody>\n",
              "</table>\n",
              "</div>\n",
              "    <div class=\"colab-df-buttons\">\n",
              "\n",
              "  <div class=\"colab-df-container\">\n",
              "    <button class=\"colab-df-convert\" onclick=\"convertToInteractive('df-195a1de3-422c-420c-8d5e-8f18bab13839')\"\n",
              "            title=\"Convert this dataframe to an interactive table.\"\n",
              "            style=\"display:none;\">\n",
              "\n",
              "  <svg xmlns=\"http://www.w3.org/2000/svg\" height=\"24px\" viewBox=\"0 -960 960 960\">\n",
              "    <path d=\"M120-120v-720h720v720H120Zm60-500h600v-160H180v160Zm220 220h160v-160H400v160Zm0 220h160v-160H400v160ZM180-400h160v-160H180v160Zm440 0h160v-160H620v160ZM180-180h160v-160H180v160Zm440 0h160v-160H620v160Z\"/>\n",
              "  </svg>\n",
              "    </button>\n",
              "\n",
              "  <style>\n",
              "    .colab-df-container {\n",
              "      display:flex;\n",
              "      gap: 12px;\n",
              "    }\n",
              "\n",
              "    .colab-df-convert {\n",
              "      background-color: #E8F0FE;\n",
              "      border: none;\n",
              "      border-radius: 50%;\n",
              "      cursor: pointer;\n",
              "      display: none;\n",
              "      fill: #1967D2;\n",
              "      height: 32px;\n",
              "      padding: 0 0 0 0;\n",
              "      width: 32px;\n",
              "    }\n",
              "\n",
              "    .colab-df-convert:hover {\n",
              "      background-color: #E2EBFA;\n",
              "      box-shadow: 0px 1px 2px rgba(60, 64, 67, 0.3), 0px 1px 3px 1px rgba(60, 64, 67, 0.15);\n",
              "      fill: #174EA6;\n",
              "    }\n",
              "\n",
              "    .colab-df-buttons div {\n",
              "      margin-bottom: 4px;\n",
              "    }\n",
              "\n",
              "    [theme=dark] .colab-df-convert {\n",
              "      background-color: #3B4455;\n",
              "      fill: #D2E3FC;\n",
              "    }\n",
              "\n",
              "    [theme=dark] .colab-df-convert:hover {\n",
              "      background-color: #434B5C;\n",
              "      box-shadow: 0px 1px 3px 1px rgba(0, 0, 0, 0.15);\n",
              "      filter: drop-shadow(0px 1px 2px rgba(0, 0, 0, 0.3));\n",
              "      fill: #FFFFFF;\n",
              "    }\n",
              "  </style>\n",
              "\n",
              "    <script>\n",
              "      const buttonEl =\n",
              "        document.querySelector('#df-195a1de3-422c-420c-8d5e-8f18bab13839 button.colab-df-convert');\n",
              "      buttonEl.style.display =\n",
              "        google.colab.kernel.accessAllowed ? 'block' : 'none';\n",
              "\n",
              "      async function convertToInteractive(key) {\n",
              "        const element = document.querySelector('#df-195a1de3-422c-420c-8d5e-8f18bab13839');\n",
              "        const dataTable =\n",
              "          await google.colab.kernel.invokeFunction('convertToInteractive',\n",
              "                                                    [key], {});\n",
              "        if (!dataTable) return;\n",
              "\n",
              "        const docLinkHtml = 'Like what you see? Visit the ' +\n",
              "          '<a target=\"_blank\" href=https://colab.research.google.com/notebooks/data_table.ipynb>data table notebook</a>'\n",
              "          + ' to learn more about interactive tables.';\n",
              "        element.innerHTML = '';\n",
              "        dataTable['output_type'] = 'display_data';\n",
              "        await google.colab.output.renderOutput(dataTable, element);\n",
              "        const docLink = document.createElement('div');\n",
              "        docLink.innerHTML = docLinkHtml;\n",
              "        element.appendChild(docLink);\n",
              "      }\n",
              "    </script>\n",
              "  </div>\n",
              "\n",
              "\n",
              "<div id=\"df-1a95d274-a56d-42dd-8734-ed1bf54f2d23\">\n",
              "  <button class=\"colab-df-quickchart\" onclick=\"quickchart('df-1a95d274-a56d-42dd-8734-ed1bf54f2d23')\"\n",
              "            title=\"Suggest charts\"\n",
              "            style=\"display:none;\">\n",
              "\n",
              "<svg xmlns=\"http://www.w3.org/2000/svg\" height=\"24px\"viewBox=\"0 0 24 24\"\n",
              "     width=\"24px\">\n",
              "    <g>\n",
              "        <path d=\"M19 3H5c-1.1 0-2 .9-2 2v14c0 1.1.9 2 2 2h14c1.1 0 2-.9 2-2V5c0-1.1-.9-2-2-2zM9 17H7v-7h2v7zm4 0h-2V7h2v10zm4 0h-2v-4h2v4z\"/>\n",
              "    </g>\n",
              "</svg>\n",
              "  </button>\n",
              "\n",
              "<style>\n",
              "  .colab-df-quickchart {\n",
              "      --bg-color: #E8F0FE;\n",
              "      --fill-color: #1967D2;\n",
              "      --hover-bg-color: #E2EBFA;\n",
              "      --hover-fill-color: #174EA6;\n",
              "      --disabled-fill-color: #AAA;\n",
              "      --disabled-bg-color: #DDD;\n",
              "  }\n",
              "\n",
              "  [theme=dark] .colab-df-quickchart {\n",
              "      --bg-color: #3B4455;\n",
              "      --fill-color: #D2E3FC;\n",
              "      --hover-bg-color: #434B5C;\n",
              "      --hover-fill-color: #FFFFFF;\n",
              "      --disabled-bg-color: #3B4455;\n",
              "      --disabled-fill-color: #666;\n",
              "  }\n",
              "\n",
              "  .colab-df-quickchart {\n",
              "    background-color: var(--bg-color);\n",
              "    border: none;\n",
              "    border-radius: 50%;\n",
              "    cursor: pointer;\n",
              "    display: none;\n",
              "    fill: var(--fill-color);\n",
              "    height: 32px;\n",
              "    padding: 0;\n",
              "    width: 32px;\n",
              "  }\n",
              "\n",
              "  .colab-df-quickchart:hover {\n",
              "    background-color: var(--hover-bg-color);\n",
              "    box-shadow: 0 1px 2px rgba(60, 64, 67, 0.3), 0 1px 3px 1px rgba(60, 64, 67, 0.15);\n",
              "    fill: var(--button-hover-fill-color);\n",
              "  }\n",
              "\n",
              "  .colab-df-quickchart-complete:disabled,\n",
              "  .colab-df-quickchart-complete:disabled:hover {\n",
              "    background-color: var(--disabled-bg-color);\n",
              "    fill: var(--disabled-fill-color);\n",
              "    box-shadow: none;\n",
              "  }\n",
              "\n",
              "  .colab-df-spinner {\n",
              "    border: 2px solid var(--fill-color);\n",
              "    border-color: transparent;\n",
              "    border-bottom-color: var(--fill-color);\n",
              "    animation:\n",
              "      spin 1s steps(1) infinite;\n",
              "  }\n",
              "\n",
              "  @keyframes spin {\n",
              "    0% {\n",
              "      border-color: transparent;\n",
              "      border-bottom-color: var(--fill-color);\n",
              "      border-left-color: var(--fill-color);\n",
              "    }\n",
              "    20% {\n",
              "      border-color: transparent;\n",
              "      border-left-color: var(--fill-color);\n",
              "      border-top-color: var(--fill-color);\n",
              "    }\n",
              "    30% {\n",
              "      border-color: transparent;\n",
              "      border-left-color: var(--fill-color);\n",
              "      border-top-color: var(--fill-color);\n",
              "      border-right-color: var(--fill-color);\n",
              "    }\n",
              "    40% {\n",
              "      border-color: transparent;\n",
              "      border-right-color: var(--fill-color);\n",
              "      border-top-color: var(--fill-color);\n",
              "    }\n",
              "    60% {\n",
              "      border-color: transparent;\n",
              "      border-right-color: var(--fill-color);\n",
              "    }\n",
              "    80% {\n",
              "      border-color: transparent;\n",
              "      border-right-color: var(--fill-color);\n",
              "      border-bottom-color: var(--fill-color);\n",
              "    }\n",
              "    90% {\n",
              "      border-color: transparent;\n",
              "      border-bottom-color: var(--fill-color);\n",
              "    }\n",
              "  }\n",
              "</style>\n",
              "\n",
              "  <script>\n",
              "    async function quickchart(key) {\n",
              "      const quickchartButtonEl =\n",
              "        document.querySelector('#' + key + ' button');\n",
              "      quickchartButtonEl.disabled = true;  // To prevent multiple clicks.\n",
              "      quickchartButtonEl.classList.add('colab-df-spinner');\n",
              "      try {\n",
              "        const charts = await google.colab.kernel.invokeFunction(\n",
              "            'suggestCharts', [key], {});\n",
              "      } catch (error) {\n",
              "        console.error('Error during call to suggestCharts:', error);\n",
              "      }\n",
              "      quickchartButtonEl.classList.remove('colab-df-spinner');\n",
              "      quickchartButtonEl.classList.add('colab-df-quickchart-complete');\n",
              "    }\n",
              "    (() => {\n",
              "      let quickchartButtonEl =\n",
              "        document.querySelector('#df-1a95d274-a56d-42dd-8734-ed1bf54f2d23 button');\n",
              "      quickchartButtonEl.style.display =\n",
              "        google.colab.kernel.accessAllowed ? 'block' : 'none';\n",
              "    })();\n",
              "  </script>\n",
              "</div>\n",
              "\n",
              "    </div>\n",
              "  </div>\n"
            ],
            "application/vnd.google.colaboratory.intrinsic+json": {
              "type": "dataframe",
              "variable_name": "recipes",
              "summary": "{\n  \"name\": \"recipes\",\n  \"rows\": 13501,\n  \"fields\": [\n    {\n      \"column\": \"id\",\n      \"properties\": {\n        \"dtype\": \"number\",\n        \"std\": 3897,\n        \"min\": 0,\n        \"max\": 13500,\n        \"num_unique_values\": 13501,\n        \"samples\": [\n          13335,\n          4385,\n          1175\n        ],\n        \"semantic_type\": \"\",\n        \"description\": \"\"\n      }\n    },\n    {\n      \"column\": \"title\",\n      \"properties\": {\n        \"dtype\": \"string\",\n        \"num_unique_values\": 13305,\n        \"samples\": [\n          \"Whole Grilled Fish with Lime\",\n          \"Espresso Chocolate Sable\\u0301s\",\n          \"Turkey Shawarma With Crunchy Vegetables\"\n        ],\n        \"semantic_type\": \"\",\n        \"description\": \"\"\n      }\n    },\n    {\n      \"column\": \"ingredients\",\n      \"properties\": {\n        \"dtype\": \"string\",\n        \"num_unique_values\": 13473,\n        \"samples\": [\n          \"['2 cups packed torn kale leaves, stems removed', '1 cup packed fresh basil leaves', '1 teaspoon sea salt', '1/4 cup extra virgin olive oil', '1/4 cup toasted walnuts', '4 cloves garlic, chopped', '1/2 cup grated Parmesan cheese']\",\n          \"['1/4 cup thinly sliced peeled fresh ginger', '1/4 cup thinly sliced fresh lemongrass, cut from bottom 4 inches of 4 stalks with tough leaves removed', '1/4 cup fresh lime juice', '2 tablespoons fish sauce (such as nam pla or nuoc nam)*', '2 tablespoons water', '3 tablespoons sweet chili sauce*', '1/2 cup diced seeded peeled cucumber', '1/4 cup chopped green onions', '1/4 cup diced seeded plum tomato', '2 tablespoons chopped seeded jalape\\u00f1o chile', '1 tablespoon finely chopped fresh cilantro', '1 tablespoon finely chopped fresh mint', '1 tablespoon finely chopped fresh basil (preferably Vietnamese or Thai)', '1 14- to 16-ounce package firm tofu, drained, cut into 1/2-inch cubes, patted dry', '6 large or 12 medium butter lettuce leaves']\",\n          \"['1/4 cup dried unsweetened cranberries', '3 tablespoons unseasoned rice vinegar', '2 (1 1/2\\\"-thick) bone-in pork rib chops (about 1 pound each), patted dry', '4 tablespoons extra-virgin olive oil, divided', '3 sprigs thyme', '3 garlic cloves, smashed', '3 tablespoons unsalted butter, cut into pieces', '1 small shallot, finely chopped', '6 large or 8 medium celery stalks, thinly sliced on a diagonal', '1/2 cup parsley leaves with tender stems', '1/4 cup chopped salted, dry-roasted almonds', '1 ounce Parmesan, shaved', 'Kosher salt']\"\n        ],\n        \"semantic_type\": \"\",\n        \"description\": \"\"\n      }\n    },\n    {\n      \"column\": \"Instructions\",\n      \"properties\": {\n        \"dtype\": \"string\",\n        \"num_unique_values\": 13464,\n        \"samples\": [\n          \"Preheat oven to 350\\u00b0F. Mix first 5 ingredients in small bowl to blend. Set aside.\\nBrush oil over both sides of bread. Arrange bread in single layer on large baking sheet. Bake until bread is just crisp, about 5 minutes per side. (Cheese mixture and toasts can be made 2 days ahead. Cover cheese mixture and chill. Cool toasts; store airtight at room temperature.)\\nSpread cheese mixture over toasts. Top with salmon, trimming to fit. Garnish with lemon peel strips and tarragon sprigs. Arrange on platter and serve.\",\n          \"Line 9x5x3-inch metal loaf pan with plastic wrap, leaving generous overhang. Sprinkle almonds evenly over bottom of pan. Using electric mixer, beat whipping cream in large bowl until soft peaks form. Refrigerate whipped cream while making custard.\\nWhisk 1 1/4 cups sugar, egg yolks, lemon juice, lemon peel, and salt in large metal bowl to blend. Set bowl over large saucepan of simmering water and whisk constantly until yolk mixture is thick and fluffy and instant-read thermometer inserted into mixture registers 170\\u00b0F, about 4 minutes. Remove bowl from over simmering water. Using electric mixer, beat mixture until cool, thick, and doubled in volume, about 6 minutes. Fold in chilled whipped cream. Transfer mixture to prepared loaf pan and smooth top. Tap loaf pan lightly on work surface to remove air pockets. Fold plastic wrap overhang over top to cover. Freeze semifreddo until firm, at least 8 hours or overnight. DO AHEAD: Semifreddo can be made 3 days ahead. Keep frozen. Gently mix all berries and remaining 2 tablespoons sugar in large bowl. DO AHEAD: Can be made 3 hours ahead. Cover and refrigerate.\\nUnfold plastic wrap from top of semifreddo and invert dessert onto platter; remove plastic wrap. Dip heavy large knife into hot water; cut semifreddo crosswise into 1-inch-thick slices. Transfer to plates; spoon berries alongside and serve.\",\n          \"Rub steak with 2 tablespoons oil; season generously with salt and pepper. Let sit at room temperature 30 minutes.\\nPrepare a grill for medium-high heat; oil grill grate. Grill steak to desired doneness, 5\\u20137 minutes per side for medium-rare. Let rest 5 minutes before slicing against the grain.\\nMeanwhile, toss parsley, Parmesan, lemon juice, and remaining 1 tablespoon oil in a medium bowl; season with salt, pepper, and more lemon juice, if desired. Serve steak topped with parsley-Parmesan salad.\"\n        ],\n        \"semantic_type\": \"\",\n        \"description\": \"\"\n      }\n    },\n    {\n      \"column\": \"image_name\",\n      \"properties\": {\n        \"dtype\": \"string\",\n        \"num_unique_values\": 13472,\n        \"samples\": [\n          \"bibb-lettuce-salad-231346\",\n          \"grilled-pork-tenderloin-with-cherry-salsa-365469\",\n          \"pork-chops-with-celery-and-almond-salad\"\n        ],\n        \"semantic_type\": \"\",\n        \"description\": \"\"\n      }\n    },\n    {\n      \"column\": \"cleaned_ingredients\",\n      \"properties\": {\n        \"dtype\": \"string\",\n        \"num_unique_values\": 13473,\n        \"samples\": [\n          \"['2 cups packed torn kale leaves, stems removed', '1 cup packed fresh basil leaves', '1 teaspoon sea salt', '1/4 cup extra virgin olive oil', '1/4 cup toasted walnuts', '4 cloves garlic, chopped', '1/2 cup grated Parmesan cheese']\",\n          \"['1/4 cup thinly sliced peeled fresh ginger', '1/4 cup thinly sliced fresh lemongrass, cut from bottom 4 inches of 4 stalks with tough leaves removed', '1/4 cup fresh lime juice', '2 tablespoons fish sauce (such as nam pla or nuoc nam)*', '2 tablespoons water', '3 tablespoons sweet chili sauce*', '1/2 cup diced seeded peeled cucumber', '1/4 cup chopped green onions', '1/4 cup diced seeded plum tomato', '2 tablespoons chopped seeded jalape\\u00f1o chile', '1 tablespoon finely chopped fresh cilantro', '1 tablespoon finely chopped fresh mint', '1 tablespoon finely chopped fresh basil (preferably Vietnamese or Thai)', '1 14- to 16-ounce package firm tofu, drained, cut into 1/2-inch cubes, patted dry', '6 large or 12 medium butter lettuce leaves']\",\n          \"['1/4 cup dried unsweetened cranberries', '3 tablespoons unseasoned rice vinegar', '2 (1 1/2\\\"-thick) bone-in pork rib chops (about 1 pound each), patted dry', '4 tablespoons extra-virgin olive oil, divided', '3 sprigs thyme', '3 garlic cloves, smashed', '3 tablespoons unsalted butter, cut into pieces', '1 small shallot, finely chopped', '6 large or 8 medium celery stalks, thinly sliced on a diagonal', '1/2 cup parsley leaves with tender stems', '1/4 cup chopped salted, dry-roasted almonds', '1 ounce Parmesan, shaved', 'Kosher salt']\"\n        ],\n        \"semantic_type\": \"\",\n        \"description\": \"\"\n      }\n    }\n  ]\n}"
            }
          },
          "metadata": {},
          "execution_count": 10
        }
      ]
    },
    {
      "cell_type": "code",
      "source": [
        "recipes.shape"
      ],
      "metadata": {
        "colab": {
          "base_uri": "https://localhost:8080/"
        },
        "id": "4X14hlndbbUI",
        "outputId": "829c2b0b-94ea-4ccc-a115-518d1591de3e"
      },
      "execution_count": null,
      "outputs": [
        {
          "output_type": "execute_result",
          "data": {
            "text/plain": [
              "(13501, 6)"
            ]
          },
          "metadata": {},
          "execution_count": 11
        }
      ]
    },
    {
      "cell_type": "code",
      "source": [
        "recipes = recipes[['id','title','ingredients','image_name']]"
      ],
      "metadata": {
        "id": "XfVmI-bEbhhn"
      },
      "execution_count": null,
      "outputs": []
    },
    {
      "cell_type": "code",
      "source": [
        "recipes.head()"
      ],
      "metadata": {
        "colab": {
          "base_uri": "https://localhost:8080/",
          "height": 206
        },
        "id": "FqsvXIjGcd8O",
        "outputId": "07af5c85-e477-4c14-d030-cbe5d87abff3"
      },
      "execution_count": null,
      "outputs": [
        {
          "output_type": "execute_result",
          "data": {
            "text/plain": [
              "   id                                              title  \\\n",
              "0   0  Miso-Butter Roast Chicken With Acorn Squash Pa...   \n",
              "1   1                    Crispy Salt and Pepper Potatoes   \n",
              "2   2                        Thanksgiving Mac and Cheese   \n",
              "3   3                 Italian Sausage and Bread Stuffing   \n",
              "4   4                                       Newton's Law   \n",
              "\n",
              "                                         ingredients  \\\n",
              "0  ['1 (3½–4-lb.) whole chicken', '2¾ tsp. kosher...   \n",
              "1  ['2 large egg whites', '1 pound new potatoes (...   \n",
              "2  ['1 cup evaporated milk', '1 cup whole milk', ...   \n",
              "3  ['1 (¾- to 1-pound) round Italian loaf, cut in...   \n",
              "4  ['1 teaspoon dark brown sugar', '1 teaspoon ho...   \n",
              "\n",
              "                                          image_name  \n",
              "0  miso-butter-roast-chicken-acorn-squash-panzanella  \n",
              "1         crispy-salt-and-pepper-potatoes-dan-kluger  \n",
              "2         thanksgiving-mac-and-cheese-erick-williams  \n",
              "3          italian-sausage-and-bread-stuffing-240559  \n",
              "4                 newtons-law-apple-bourbon-cocktail  "
            ],
            "text/html": [
              "\n",
              "  <div id=\"df-74db8a71-b22c-45b2-ba0e-bc7efeb0bc73\" class=\"colab-df-container\">\n",
              "    <div>\n",
              "<style scoped>\n",
              "    .dataframe tbody tr th:only-of-type {\n",
              "        vertical-align: middle;\n",
              "    }\n",
              "\n",
              "    .dataframe tbody tr th {\n",
              "        vertical-align: top;\n",
              "    }\n",
              "\n",
              "    .dataframe thead th {\n",
              "        text-align: right;\n",
              "    }\n",
              "</style>\n",
              "<table border=\"1\" class=\"dataframe\">\n",
              "  <thead>\n",
              "    <tr style=\"text-align: right;\">\n",
              "      <th></th>\n",
              "      <th>id</th>\n",
              "      <th>title</th>\n",
              "      <th>ingredients</th>\n",
              "      <th>image_name</th>\n",
              "    </tr>\n",
              "  </thead>\n",
              "  <tbody>\n",
              "    <tr>\n",
              "      <th>0</th>\n",
              "      <td>0</td>\n",
              "      <td>Miso-Butter Roast Chicken With Acorn Squash Pa...</td>\n",
              "      <td>['1 (3½–4-lb.) whole chicken', '2¾ tsp. kosher...</td>\n",
              "      <td>miso-butter-roast-chicken-acorn-squash-panzanella</td>\n",
              "    </tr>\n",
              "    <tr>\n",
              "      <th>1</th>\n",
              "      <td>1</td>\n",
              "      <td>Crispy Salt and Pepper Potatoes</td>\n",
              "      <td>['2 large egg whites', '1 pound new potatoes (...</td>\n",
              "      <td>crispy-salt-and-pepper-potatoes-dan-kluger</td>\n",
              "    </tr>\n",
              "    <tr>\n",
              "      <th>2</th>\n",
              "      <td>2</td>\n",
              "      <td>Thanksgiving Mac and Cheese</td>\n",
              "      <td>['1 cup evaporated milk', '1 cup whole milk', ...</td>\n",
              "      <td>thanksgiving-mac-and-cheese-erick-williams</td>\n",
              "    </tr>\n",
              "    <tr>\n",
              "      <th>3</th>\n",
              "      <td>3</td>\n",
              "      <td>Italian Sausage and Bread Stuffing</td>\n",
              "      <td>['1 (¾- to 1-pound) round Italian loaf, cut in...</td>\n",
              "      <td>italian-sausage-and-bread-stuffing-240559</td>\n",
              "    </tr>\n",
              "    <tr>\n",
              "      <th>4</th>\n",
              "      <td>4</td>\n",
              "      <td>Newton's Law</td>\n",
              "      <td>['1 teaspoon dark brown sugar', '1 teaspoon ho...</td>\n",
              "      <td>newtons-law-apple-bourbon-cocktail</td>\n",
              "    </tr>\n",
              "  </tbody>\n",
              "</table>\n",
              "</div>\n",
              "    <div class=\"colab-df-buttons\">\n",
              "\n",
              "  <div class=\"colab-df-container\">\n",
              "    <button class=\"colab-df-convert\" onclick=\"convertToInteractive('df-74db8a71-b22c-45b2-ba0e-bc7efeb0bc73')\"\n",
              "            title=\"Convert this dataframe to an interactive table.\"\n",
              "            style=\"display:none;\">\n",
              "\n",
              "  <svg xmlns=\"http://www.w3.org/2000/svg\" height=\"24px\" viewBox=\"0 -960 960 960\">\n",
              "    <path d=\"M120-120v-720h720v720H120Zm60-500h600v-160H180v160Zm220 220h160v-160H400v160Zm0 220h160v-160H400v160ZM180-400h160v-160H180v160Zm440 0h160v-160H620v160ZM180-180h160v-160H180v160Zm440 0h160v-160H620v160Z\"/>\n",
              "  </svg>\n",
              "    </button>\n",
              "\n",
              "  <style>\n",
              "    .colab-df-container {\n",
              "      display:flex;\n",
              "      gap: 12px;\n",
              "    }\n",
              "\n",
              "    .colab-df-convert {\n",
              "      background-color: #E8F0FE;\n",
              "      border: none;\n",
              "      border-radius: 50%;\n",
              "      cursor: pointer;\n",
              "      display: none;\n",
              "      fill: #1967D2;\n",
              "      height: 32px;\n",
              "      padding: 0 0 0 0;\n",
              "      width: 32px;\n",
              "    }\n",
              "\n",
              "    .colab-df-convert:hover {\n",
              "      background-color: #E2EBFA;\n",
              "      box-shadow: 0px 1px 2px rgba(60, 64, 67, 0.3), 0px 1px 3px 1px rgba(60, 64, 67, 0.15);\n",
              "      fill: #174EA6;\n",
              "    }\n",
              "\n",
              "    .colab-df-buttons div {\n",
              "      margin-bottom: 4px;\n",
              "    }\n",
              "\n",
              "    [theme=dark] .colab-df-convert {\n",
              "      background-color: #3B4455;\n",
              "      fill: #D2E3FC;\n",
              "    }\n",
              "\n",
              "    [theme=dark] .colab-df-convert:hover {\n",
              "      background-color: #434B5C;\n",
              "      box-shadow: 0px 1px 3px 1px rgba(0, 0, 0, 0.15);\n",
              "      filter: drop-shadow(0px 1px 2px rgba(0, 0, 0, 0.3));\n",
              "      fill: #FFFFFF;\n",
              "    }\n",
              "  </style>\n",
              "\n",
              "    <script>\n",
              "      const buttonEl =\n",
              "        document.querySelector('#df-74db8a71-b22c-45b2-ba0e-bc7efeb0bc73 button.colab-df-convert');\n",
              "      buttonEl.style.display =\n",
              "        google.colab.kernel.accessAllowed ? 'block' : 'none';\n",
              "\n",
              "      async function convertToInteractive(key) {\n",
              "        const element = document.querySelector('#df-74db8a71-b22c-45b2-ba0e-bc7efeb0bc73');\n",
              "        const dataTable =\n",
              "          await google.colab.kernel.invokeFunction('convertToInteractive',\n",
              "                                                    [key], {});\n",
              "        if (!dataTable) return;\n",
              "\n",
              "        const docLinkHtml = 'Like what you see? Visit the ' +\n",
              "          '<a target=\"_blank\" href=https://colab.research.google.com/notebooks/data_table.ipynb>data table notebook</a>'\n",
              "          + ' to learn more about interactive tables.';\n",
              "        element.innerHTML = '';\n",
              "        dataTable['output_type'] = 'display_data';\n",
              "        await google.colab.output.renderOutput(dataTable, element);\n",
              "        const docLink = document.createElement('div');\n",
              "        docLink.innerHTML = docLinkHtml;\n",
              "        element.appendChild(docLink);\n",
              "      }\n",
              "    </script>\n",
              "  </div>\n",
              "\n",
              "\n",
              "<div id=\"df-e3a7109c-0349-42c5-9232-743eaa6dd0e1\">\n",
              "  <button class=\"colab-df-quickchart\" onclick=\"quickchart('df-e3a7109c-0349-42c5-9232-743eaa6dd0e1')\"\n",
              "            title=\"Suggest charts\"\n",
              "            style=\"display:none;\">\n",
              "\n",
              "<svg xmlns=\"http://www.w3.org/2000/svg\" height=\"24px\"viewBox=\"0 0 24 24\"\n",
              "     width=\"24px\">\n",
              "    <g>\n",
              "        <path d=\"M19 3H5c-1.1 0-2 .9-2 2v14c0 1.1.9 2 2 2h14c1.1 0 2-.9 2-2V5c0-1.1-.9-2-2-2zM9 17H7v-7h2v7zm4 0h-2V7h2v10zm4 0h-2v-4h2v4z\"/>\n",
              "    </g>\n",
              "</svg>\n",
              "  </button>\n",
              "\n",
              "<style>\n",
              "  .colab-df-quickchart {\n",
              "      --bg-color: #E8F0FE;\n",
              "      --fill-color: #1967D2;\n",
              "      --hover-bg-color: #E2EBFA;\n",
              "      --hover-fill-color: #174EA6;\n",
              "      --disabled-fill-color: #AAA;\n",
              "      --disabled-bg-color: #DDD;\n",
              "  }\n",
              "\n",
              "  [theme=dark] .colab-df-quickchart {\n",
              "      --bg-color: #3B4455;\n",
              "      --fill-color: #D2E3FC;\n",
              "      --hover-bg-color: #434B5C;\n",
              "      --hover-fill-color: #FFFFFF;\n",
              "      --disabled-bg-color: #3B4455;\n",
              "      --disabled-fill-color: #666;\n",
              "  }\n",
              "\n",
              "  .colab-df-quickchart {\n",
              "    background-color: var(--bg-color);\n",
              "    border: none;\n",
              "    border-radius: 50%;\n",
              "    cursor: pointer;\n",
              "    display: none;\n",
              "    fill: var(--fill-color);\n",
              "    height: 32px;\n",
              "    padding: 0;\n",
              "    width: 32px;\n",
              "  }\n",
              "\n",
              "  .colab-df-quickchart:hover {\n",
              "    background-color: var(--hover-bg-color);\n",
              "    box-shadow: 0 1px 2px rgba(60, 64, 67, 0.3), 0 1px 3px 1px rgba(60, 64, 67, 0.15);\n",
              "    fill: var(--button-hover-fill-color);\n",
              "  }\n",
              "\n",
              "  .colab-df-quickchart-complete:disabled,\n",
              "  .colab-df-quickchart-complete:disabled:hover {\n",
              "    background-color: var(--disabled-bg-color);\n",
              "    fill: var(--disabled-fill-color);\n",
              "    box-shadow: none;\n",
              "  }\n",
              "\n",
              "  .colab-df-spinner {\n",
              "    border: 2px solid var(--fill-color);\n",
              "    border-color: transparent;\n",
              "    border-bottom-color: var(--fill-color);\n",
              "    animation:\n",
              "      spin 1s steps(1) infinite;\n",
              "  }\n",
              "\n",
              "  @keyframes spin {\n",
              "    0% {\n",
              "      border-color: transparent;\n",
              "      border-bottom-color: var(--fill-color);\n",
              "      border-left-color: var(--fill-color);\n",
              "    }\n",
              "    20% {\n",
              "      border-color: transparent;\n",
              "      border-left-color: var(--fill-color);\n",
              "      border-top-color: var(--fill-color);\n",
              "    }\n",
              "    30% {\n",
              "      border-color: transparent;\n",
              "      border-left-color: var(--fill-color);\n",
              "      border-top-color: var(--fill-color);\n",
              "      border-right-color: var(--fill-color);\n",
              "    }\n",
              "    40% {\n",
              "      border-color: transparent;\n",
              "      border-right-color: var(--fill-color);\n",
              "      border-top-color: var(--fill-color);\n",
              "    }\n",
              "    60% {\n",
              "      border-color: transparent;\n",
              "      border-right-color: var(--fill-color);\n",
              "    }\n",
              "    80% {\n",
              "      border-color: transparent;\n",
              "      border-right-color: var(--fill-color);\n",
              "      border-bottom-color: var(--fill-color);\n",
              "    }\n",
              "    90% {\n",
              "      border-color: transparent;\n",
              "      border-bottom-color: var(--fill-color);\n",
              "    }\n",
              "  }\n",
              "</style>\n",
              "\n",
              "  <script>\n",
              "    async function quickchart(key) {\n",
              "      const quickchartButtonEl =\n",
              "        document.querySelector('#' + key + ' button');\n",
              "      quickchartButtonEl.disabled = true;  // To prevent multiple clicks.\n",
              "      quickchartButtonEl.classList.add('colab-df-spinner');\n",
              "      try {\n",
              "        const charts = await google.colab.kernel.invokeFunction(\n",
              "            'suggestCharts', [key], {});\n",
              "      } catch (error) {\n",
              "        console.error('Error during call to suggestCharts:', error);\n",
              "      }\n",
              "      quickchartButtonEl.classList.remove('colab-df-spinner');\n",
              "      quickchartButtonEl.classList.add('colab-df-quickchart-complete');\n",
              "    }\n",
              "    (() => {\n",
              "      let quickchartButtonEl =\n",
              "        document.querySelector('#df-e3a7109c-0349-42c5-9232-743eaa6dd0e1 button');\n",
              "      quickchartButtonEl.style.display =\n",
              "        google.colab.kernel.accessAllowed ? 'block' : 'none';\n",
              "    })();\n",
              "  </script>\n",
              "</div>\n",
              "\n",
              "    </div>\n",
              "  </div>\n"
            ],
            "application/vnd.google.colaboratory.intrinsic+json": {
              "type": "dataframe",
              "variable_name": "recipes",
              "summary": "{\n  \"name\": \"recipes\",\n  \"rows\": 13501,\n  \"fields\": [\n    {\n      \"column\": \"id\",\n      \"properties\": {\n        \"dtype\": \"number\",\n        \"std\": 3897,\n        \"min\": 0,\n        \"max\": 13500,\n        \"num_unique_values\": 13501,\n        \"samples\": [\n          13335,\n          4385,\n          1175\n        ],\n        \"semantic_type\": \"\",\n        \"description\": \"\"\n      }\n    },\n    {\n      \"column\": \"title\",\n      \"properties\": {\n        \"dtype\": \"string\",\n        \"num_unique_values\": 13305,\n        \"samples\": [\n          \"Whole Grilled Fish with Lime\",\n          \"Espresso Chocolate Sable\\u0301s\",\n          \"Turkey Shawarma With Crunchy Vegetables\"\n        ],\n        \"semantic_type\": \"\",\n        \"description\": \"\"\n      }\n    },\n    {\n      \"column\": \"ingredients\",\n      \"properties\": {\n        \"dtype\": \"string\",\n        \"num_unique_values\": 13473,\n        \"samples\": [\n          \"['2 cups packed torn kale leaves, stems removed', '1 cup packed fresh basil leaves', '1 teaspoon sea salt', '1/4 cup extra virgin olive oil', '1/4 cup toasted walnuts', '4 cloves garlic, chopped', '1/2 cup grated Parmesan cheese']\",\n          \"['1/4 cup thinly sliced peeled fresh ginger', '1/4 cup thinly sliced fresh lemongrass, cut from bottom 4 inches of 4 stalks with tough leaves removed', '1/4 cup fresh lime juice', '2 tablespoons fish sauce (such as nam pla or nuoc nam)*', '2 tablespoons water', '3 tablespoons sweet chili sauce*', '1/2 cup diced seeded peeled cucumber', '1/4 cup chopped green onions', '1/4 cup diced seeded plum tomato', '2 tablespoons chopped seeded jalape\\u00f1o chile', '1 tablespoon finely chopped fresh cilantro', '1 tablespoon finely chopped fresh mint', '1 tablespoon finely chopped fresh basil (preferably Vietnamese or Thai)', '1 14- to 16-ounce package firm tofu, drained, cut into 1/2-inch cubes, patted dry', '6 large or 12 medium butter lettuce leaves']\",\n          \"['1/4 cup dried unsweetened cranberries', '3 tablespoons unseasoned rice vinegar', '2 (1 1/2\\\"-thick) bone-in pork rib chops (about 1 pound each), patted dry', '4 tablespoons extra-virgin olive oil, divided', '3 sprigs thyme', '3 garlic cloves, smashed', '3 tablespoons unsalted butter, cut into pieces', '1 small shallot, finely chopped', '6 large or 8 medium celery stalks, thinly sliced on a diagonal', '1/2 cup parsley leaves with tender stems', '1/4 cup chopped salted, dry-roasted almonds', '1 ounce Parmesan, shaved', 'Kosher salt']\"\n        ],\n        \"semantic_type\": \"\",\n        \"description\": \"\"\n      }\n    },\n    {\n      \"column\": \"image_name\",\n      \"properties\": {\n        \"dtype\": \"string\",\n        \"num_unique_values\": 13472,\n        \"samples\": [\n          \"bibb-lettuce-salad-231346\",\n          \"grilled-pork-tenderloin-with-cherry-salsa-365469\",\n          \"pork-chops-with-celery-and-almond-salad\"\n        ],\n        \"semantic_type\": \"\",\n        \"description\": \"\"\n      }\n    }\n  ]\n}"
            }
          },
          "metadata": {},
          "execution_count": 13
        }
      ]
    },
    {
      "cell_type": "code",
      "source": [
        "recipes.isnull().sum()"
      ],
      "metadata": {
        "colab": {
          "base_uri": "https://localhost:8080/"
        },
        "id": "-OJyPQ5sbxJP",
        "outputId": "02eed8a8-bd6e-4792-e8ee-11efe81dd9a8"
      },
      "execution_count": null,
      "outputs": [
        {
          "output_type": "execute_result",
          "data": {
            "text/plain": [
              "id             0\n",
              "title          5\n",
              "ingredients    0\n",
              "image_name     0\n",
              "dtype: int64"
            ]
          },
          "metadata": {},
          "execution_count": 14
        }
      ]
    },
    {
      "cell_type": "code",
      "source": [
        "recipes.dropna(inplace=True)"
      ],
      "metadata": {
        "id": "4qaRXVbscnXv"
      },
      "execution_count": null,
      "outputs": []
    },
    {
      "cell_type": "code",
      "source": [
        "recipes.iloc[0].ingredients"
      ],
      "metadata": {
        "colab": {
          "base_uri": "https://localhost:8080/",
          "height": 122
        },
        "id": "ITC7TsrYcRDS",
        "outputId": "a0de164f-be50-46c3-f484-2990c94748c5"
      },
      "execution_count": null,
      "outputs": [
        {
          "output_type": "execute_result",
          "data": {
            "text/plain": [
              "'[\\'1 (3½–4-lb.) whole chicken\\', \\'2¾ tsp. kosher salt, divided, plus more\\', \\'2 small acorn squash (about 3 lb. total)\\', \\'2 Tbsp. finely chopped sage\\', \\'1 Tbsp. finely chopped rosemary\\', \\'6 Tbsp. unsalted butter, melted, plus 3 Tbsp. room temperature\\', \\'¼ tsp. ground allspice\\', \\'Pinch of crushed red pepper flakes\\', \\'Freshly ground black pepper\\', \\'⅓ loaf good-quality sturdy white bread, torn into 1\" pieces (about 2½ cups)\\', \\'2 medium apples (such as Gala or Pink Lady; about 14 oz. total), cored, cut into 1\" pieces\\', \\'2 Tbsp. extra-virgin olive oil\\', \\'½ small red onion, thinly sliced\\', \\'3 Tbsp. apple cider vinegar\\', \\'1 Tbsp. white miso\\', \\'¼ cup all-purpose flour\\', \\'2 Tbsp. unsalted butter, room temperature\\', \\'¼ cup dry white wine\\', \\'2 cups unsalted chicken broth\\', \\'2 tsp. white miso\\', \\'Kosher salt, freshly ground pepper\\']'"
            ],
            "application/vnd.google.colaboratory.intrinsic+json": {
              "type": "string"
            }
          },
          "metadata": {},
          "execution_count": 16
        }
      ]
    },
    {
      "cell_type": "code",
      "source": [
        "# Define a function to remove measurements and numbers\n",
        "def remove_fractions(text):\n",
        "    # Regular expression to remove numbers, fractions, and any following whitespace\n",
        "    cleaned_text = re.sub(r'\\d', '', text)\n",
        "    cleaned_text = re.sub(r'[\\d½¾¼⅓]', '', cleaned_text)\n",
        "    # Regular expression to remove parentheses with content\n",
        "    cleaned_text = re.sub(r'\\(.*?\\)', '', cleaned_text)\n",
        "    #cleaned_text = text.replace(\"tsp\", \"\").replace(\"Tbsp\", \"\").replace(\".\",\"\")\n",
        "    return cleaned_text.strip()\n",
        "\n",
        "# Apply the function to each element in the list\n",
        "recipes['ingredients'] = [remove_fractions(item) for item in recipes['ingredients']]\n"
      ],
      "metadata": {
        "id": "h4krs5Fzfgto"
      },
      "execution_count": null,
      "outputs": []
    },
    {
      "cell_type": "code",
      "source": [
        "recipes.head()"
      ],
      "metadata": {
        "colab": {
          "base_uri": "https://localhost:8080/",
          "height": 206
        },
        "id": "99nDWpHVhYgb",
        "outputId": "8e6a2884-fcb7-4d59-acdf-c0825cfc4a68"
      },
      "execution_count": null,
      "outputs": [
        {
          "output_type": "execute_result",
          "data": {
            "text/plain": [
              "   id                                              title  \\\n",
              "0   0  Miso-Butter Roast Chicken With Acorn Squash Pa...   \n",
              "1   1                    Crispy Salt and Pepper Potatoes   \n",
              "2   2                        Thanksgiving Mac and Cheese   \n",
              "3   3                 Italian Sausage and Bread Stuffing   \n",
              "4   4                                       Newton's Law   \n",
              "\n",
              "                                         ingredients  \\\n",
              "0  ['  whole chicken', ' tsp. kosher salt, divide...   \n",
              "1  [' large egg whites', ' pound new potatoes ', ...   \n",
              "2  [' cup evaporated milk', ' cup whole milk', ' ...   \n",
              "3  ['  round Italian loaf, cut into -inch cubes '...   \n",
              "4  [' teaspoon dark brown sugar', ' teaspoon hot ...   \n",
              "\n",
              "                                          image_name  \n",
              "0  miso-butter-roast-chicken-acorn-squash-panzanella  \n",
              "1         crispy-salt-and-pepper-potatoes-dan-kluger  \n",
              "2         thanksgiving-mac-and-cheese-erick-williams  \n",
              "3          italian-sausage-and-bread-stuffing-240559  \n",
              "4                 newtons-law-apple-bourbon-cocktail  "
            ],
            "text/html": [
              "\n",
              "  <div id=\"df-7476a246-2263-478f-b55f-41e08cbc07f9\" class=\"colab-df-container\">\n",
              "    <div>\n",
              "<style scoped>\n",
              "    .dataframe tbody tr th:only-of-type {\n",
              "        vertical-align: middle;\n",
              "    }\n",
              "\n",
              "    .dataframe tbody tr th {\n",
              "        vertical-align: top;\n",
              "    }\n",
              "\n",
              "    .dataframe thead th {\n",
              "        text-align: right;\n",
              "    }\n",
              "</style>\n",
              "<table border=\"1\" class=\"dataframe\">\n",
              "  <thead>\n",
              "    <tr style=\"text-align: right;\">\n",
              "      <th></th>\n",
              "      <th>id</th>\n",
              "      <th>title</th>\n",
              "      <th>ingredients</th>\n",
              "      <th>image_name</th>\n",
              "    </tr>\n",
              "  </thead>\n",
              "  <tbody>\n",
              "    <tr>\n",
              "      <th>0</th>\n",
              "      <td>0</td>\n",
              "      <td>Miso-Butter Roast Chicken With Acorn Squash Pa...</td>\n",
              "      <td>['  whole chicken', ' tsp. kosher salt, divide...</td>\n",
              "      <td>miso-butter-roast-chicken-acorn-squash-panzanella</td>\n",
              "    </tr>\n",
              "    <tr>\n",
              "      <th>1</th>\n",
              "      <td>1</td>\n",
              "      <td>Crispy Salt and Pepper Potatoes</td>\n",
              "      <td>[' large egg whites', ' pound new potatoes ', ...</td>\n",
              "      <td>crispy-salt-and-pepper-potatoes-dan-kluger</td>\n",
              "    </tr>\n",
              "    <tr>\n",
              "      <th>2</th>\n",
              "      <td>2</td>\n",
              "      <td>Thanksgiving Mac and Cheese</td>\n",
              "      <td>[' cup evaporated milk', ' cup whole milk', ' ...</td>\n",
              "      <td>thanksgiving-mac-and-cheese-erick-williams</td>\n",
              "    </tr>\n",
              "    <tr>\n",
              "      <th>3</th>\n",
              "      <td>3</td>\n",
              "      <td>Italian Sausage and Bread Stuffing</td>\n",
              "      <td>['  round Italian loaf, cut into -inch cubes '...</td>\n",
              "      <td>italian-sausage-and-bread-stuffing-240559</td>\n",
              "    </tr>\n",
              "    <tr>\n",
              "      <th>4</th>\n",
              "      <td>4</td>\n",
              "      <td>Newton's Law</td>\n",
              "      <td>[' teaspoon dark brown sugar', ' teaspoon hot ...</td>\n",
              "      <td>newtons-law-apple-bourbon-cocktail</td>\n",
              "    </tr>\n",
              "  </tbody>\n",
              "</table>\n",
              "</div>\n",
              "    <div class=\"colab-df-buttons\">\n",
              "\n",
              "  <div class=\"colab-df-container\">\n",
              "    <button class=\"colab-df-convert\" onclick=\"convertToInteractive('df-7476a246-2263-478f-b55f-41e08cbc07f9')\"\n",
              "            title=\"Convert this dataframe to an interactive table.\"\n",
              "            style=\"display:none;\">\n",
              "\n",
              "  <svg xmlns=\"http://www.w3.org/2000/svg\" height=\"24px\" viewBox=\"0 -960 960 960\">\n",
              "    <path d=\"M120-120v-720h720v720H120Zm60-500h600v-160H180v160Zm220 220h160v-160H400v160Zm0 220h160v-160H400v160ZM180-400h160v-160H180v160Zm440 0h160v-160H620v160ZM180-180h160v-160H180v160Zm440 0h160v-160H620v160Z\"/>\n",
              "  </svg>\n",
              "    </button>\n",
              "\n",
              "  <style>\n",
              "    .colab-df-container {\n",
              "      display:flex;\n",
              "      gap: 12px;\n",
              "    }\n",
              "\n",
              "    .colab-df-convert {\n",
              "      background-color: #E8F0FE;\n",
              "      border: none;\n",
              "      border-radius: 50%;\n",
              "      cursor: pointer;\n",
              "      display: none;\n",
              "      fill: #1967D2;\n",
              "      height: 32px;\n",
              "      padding: 0 0 0 0;\n",
              "      width: 32px;\n",
              "    }\n",
              "\n",
              "    .colab-df-convert:hover {\n",
              "      background-color: #E2EBFA;\n",
              "      box-shadow: 0px 1px 2px rgba(60, 64, 67, 0.3), 0px 1px 3px 1px rgba(60, 64, 67, 0.15);\n",
              "      fill: #174EA6;\n",
              "    }\n",
              "\n",
              "    .colab-df-buttons div {\n",
              "      margin-bottom: 4px;\n",
              "    }\n",
              "\n",
              "    [theme=dark] .colab-df-convert {\n",
              "      background-color: #3B4455;\n",
              "      fill: #D2E3FC;\n",
              "    }\n",
              "\n",
              "    [theme=dark] .colab-df-convert:hover {\n",
              "      background-color: #434B5C;\n",
              "      box-shadow: 0px 1px 3px 1px rgba(0, 0, 0, 0.15);\n",
              "      filter: drop-shadow(0px 1px 2px rgba(0, 0, 0, 0.3));\n",
              "      fill: #FFFFFF;\n",
              "    }\n",
              "  </style>\n",
              "\n",
              "    <script>\n",
              "      const buttonEl =\n",
              "        document.querySelector('#df-7476a246-2263-478f-b55f-41e08cbc07f9 button.colab-df-convert');\n",
              "      buttonEl.style.display =\n",
              "        google.colab.kernel.accessAllowed ? 'block' : 'none';\n",
              "\n",
              "      async function convertToInteractive(key) {\n",
              "        const element = document.querySelector('#df-7476a246-2263-478f-b55f-41e08cbc07f9');\n",
              "        const dataTable =\n",
              "          await google.colab.kernel.invokeFunction('convertToInteractive',\n",
              "                                                    [key], {});\n",
              "        if (!dataTable) return;\n",
              "\n",
              "        const docLinkHtml = 'Like what you see? Visit the ' +\n",
              "          '<a target=\"_blank\" href=https://colab.research.google.com/notebooks/data_table.ipynb>data table notebook</a>'\n",
              "          + ' to learn more about interactive tables.';\n",
              "        element.innerHTML = '';\n",
              "        dataTable['output_type'] = 'display_data';\n",
              "        await google.colab.output.renderOutput(dataTable, element);\n",
              "        const docLink = document.createElement('div');\n",
              "        docLink.innerHTML = docLinkHtml;\n",
              "        element.appendChild(docLink);\n",
              "      }\n",
              "    </script>\n",
              "  </div>\n",
              "\n",
              "\n",
              "<div id=\"df-0ec07573-712a-4651-9dcf-4ab77ece2ebc\">\n",
              "  <button class=\"colab-df-quickchart\" onclick=\"quickchart('df-0ec07573-712a-4651-9dcf-4ab77ece2ebc')\"\n",
              "            title=\"Suggest charts\"\n",
              "            style=\"display:none;\">\n",
              "\n",
              "<svg xmlns=\"http://www.w3.org/2000/svg\" height=\"24px\"viewBox=\"0 0 24 24\"\n",
              "     width=\"24px\">\n",
              "    <g>\n",
              "        <path d=\"M19 3H5c-1.1 0-2 .9-2 2v14c0 1.1.9 2 2 2h14c1.1 0 2-.9 2-2V5c0-1.1-.9-2-2-2zM9 17H7v-7h2v7zm4 0h-2V7h2v10zm4 0h-2v-4h2v4z\"/>\n",
              "    </g>\n",
              "</svg>\n",
              "  </button>\n",
              "\n",
              "<style>\n",
              "  .colab-df-quickchart {\n",
              "      --bg-color: #E8F0FE;\n",
              "      --fill-color: #1967D2;\n",
              "      --hover-bg-color: #E2EBFA;\n",
              "      --hover-fill-color: #174EA6;\n",
              "      --disabled-fill-color: #AAA;\n",
              "      --disabled-bg-color: #DDD;\n",
              "  }\n",
              "\n",
              "  [theme=dark] .colab-df-quickchart {\n",
              "      --bg-color: #3B4455;\n",
              "      --fill-color: #D2E3FC;\n",
              "      --hover-bg-color: #434B5C;\n",
              "      --hover-fill-color: #FFFFFF;\n",
              "      --disabled-bg-color: #3B4455;\n",
              "      --disabled-fill-color: #666;\n",
              "  }\n",
              "\n",
              "  .colab-df-quickchart {\n",
              "    background-color: var(--bg-color);\n",
              "    border: none;\n",
              "    border-radius: 50%;\n",
              "    cursor: pointer;\n",
              "    display: none;\n",
              "    fill: var(--fill-color);\n",
              "    height: 32px;\n",
              "    padding: 0;\n",
              "    width: 32px;\n",
              "  }\n",
              "\n",
              "  .colab-df-quickchart:hover {\n",
              "    background-color: var(--hover-bg-color);\n",
              "    box-shadow: 0 1px 2px rgba(60, 64, 67, 0.3), 0 1px 3px 1px rgba(60, 64, 67, 0.15);\n",
              "    fill: var(--button-hover-fill-color);\n",
              "  }\n",
              "\n",
              "  .colab-df-quickchart-complete:disabled,\n",
              "  .colab-df-quickchart-complete:disabled:hover {\n",
              "    background-color: var(--disabled-bg-color);\n",
              "    fill: var(--disabled-fill-color);\n",
              "    box-shadow: none;\n",
              "  }\n",
              "\n",
              "  .colab-df-spinner {\n",
              "    border: 2px solid var(--fill-color);\n",
              "    border-color: transparent;\n",
              "    border-bottom-color: var(--fill-color);\n",
              "    animation:\n",
              "      spin 1s steps(1) infinite;\n",
              "  }\n",
              "\n",
              "  @keyframes spin {\n",
              "    0% {\n",
              "      border-color: transparent;\n",
              "      border-bottom-color: var(--fill-color);\n",
              "      border-left-color: var(--fill-color);\n",
              "    }\n",
              "    20% {\n",
              "      border-color: transparent;\n",
              "      border-left-color: var(--fill-color);\n",
              "      border-top-color: var(--fill-color);\n",
              "    }\n",
              "    30% {\n",
              "      border-color: transparent;\n",
              "      border-left-color: var(--fill-color);\n",
              "      border-top-color: var(--fill-color);\n",
              "      border-right-color: var(--fill-color);\n",
              "    }\n",
              "    40% {\n",
              "      border-color: transparent;\n",
              "      border-right-color: var(--fill-color);\n",
              "      border-top-color: var(--fill-color);\n",
              "    }\n",
              "    60% {\n",
              "      border-color: transparent;\n",
              "      border-right-color: var(--fill-color);\n",
              "    }\n",
              "    80% {\n",
              "      border-color: transparent;\n",
              "      border-right-color: var(--fill-color);\n",
              "      border-bottom-color: var(--fill-color);\n",
              "    }\n",
              "    90% {\n",
              "      border-color: transparent;\n",
              "      border-bottom-color: var(--fill-color);\n",
              "    }\n",
              "  }\n",
              "</style>\n",
              "\n",
              "  <script>\n",
              "    async function quickchart(key) {\n",
              "      const quickchartButtonEl =\n",
              "        document.querySelector('#' + key + ' button');\n",
              "      quickchartButtonEl.disabled = true;  // To prevent multiple clicks.\n",
              "      quickchartButtonEl.classList.add('colab-df-spinner');\n",
              "      try {\n",
              "        const charts = await google.colab.kernel.invokeFunction(\n",
              "            'suggestCharts', [key], {});\n",
              "      } catch (error) {\n",
              "        console.error('Error during call to suggestCharts:', error);\n",
              "      }\n",
              "      quickchartButtonEl.classList.remove('colab-df-spinner');\n",
              "      quickchartButtonEl.classList.add('colab-df-quickchart-complete');\n",
              "    }\n",
              "    (() => {\n",
              "      let quickchartButtonEl =\n",
              "        document.querySelector('#df-0ec07573-712a-4651-9dcf-4ab77ece2ebc button');\n",
              "      quickchartButtonEl.style.display =\n",
              "        google.colab.kernel.accessAllowed ? 'block' : 'none';\n",
              "    })();\n",
              "  </script>\n",
              "</div>\n",
              "\n",
              "    </div>\n",
              "  </div>\n"
            ],
            "application/vnd.google.colaboratory.intrinsic+json": {
              "type": "dataframe",
              "variable_name": "recipes",
              "summary": "{\n  \"name\": \"recipes\",\n  \"rows\": 13496,\n  \"fields\": [\n    {\n      \"column\": \"id\",\n      \"properties\": {\n        \"dtype\": \"number\",\n        \"std\": 3896,\n        \"min\": 0,\n        \"max\": 13500,\n        \"num_unique_values\": 13496,\n        \"samples\": [\n          6173,\n          833,\n          3289\n        ],\n        \"semantic_type\": \"\",\n        \"description\": \"\"\n      }\n    },\n    {\n      \"column\": \"title\",\n      \"properties\": {\n        \"dtype\": \"string\",\n        \"num_unique_values\": 13305,\n        \"samples\": [\n          \"Whole Grilled Fish with Lime\",\n          \"Espresso Chocolate Sable\\u0301s\",\n          \"Turkey Shawarma With Crunchy Vegetables\"\n        ],\n        \"semantic_type\": \"\",\n        \"description\": \"\"\n      }\n    },\n    {\n      \"column\": \"ingredients\",\n      \"properties\": {\n        \"dtype\": \"string\",\n        \"num_unique_values\": 13471,\n        \"samples\": [\n          \"['/ cup fresh cilantro leaves with tender stems', '/ cup fresh flat-leaf parsley leaves with tender stems', ' garlic clove, chopped', ' small green chiles, such as Thai, seeds removed, chopped, divided', '/ cup olive oil, divided', '/ teaspoon kosher salt, plus more', '/ cup plain whole-milk Greek yogurt', ' tablespoon fresh lemon juice', ' medium eggplants , cut into  /\\\" pieces', 'Vegetable oil ', ' pound small tomatoes , cut into wedges', '/ pound Persian cucumbers , sliced', 'A deep-fry thermometer']\",\n          \"['Nonstick vegetable oil spray', '/ cup  light brown sugar', '/ cup  unsalted butter, room temperature, divided', ' blood oranges, peel and white pith removed, each sliced into  rounds, seeds removed', ' / cups all-purpose flour', ' tablespoons polenta ', ' / teaspoons kosher salt', ' / teaspoons baking powder', '/ teaspoon baking soda', ' cup granulated sugar', ' vanilla bean, split lengthwise', ' large eggs, room temperature', '/ cup buttermilk, room temperature', 'Lemon omani , green cardamom pods, and softly whipped cream ', 'A \\\" springform pan']\",\n          \"[' package  active dry yeast', ' / cups warm milk', ' cup sugar', ' cup  unsalted butter, melted and cooled, plus more for brushing', ' large egg yolks', ' teaspoon salt', ' / cups all-purpose flour, plus more for dusting', ' tablespoons ground cinnamon']\"\n        ],\n        \"semantic_type\": \"\",\n        \"description\": \"\"\n      }\n    },\n    {\n      \"column\": \"image_name\",\n      \"properties\": {\n        \"dtype\": \"string\",\n        \"num_unique_values\": 13467,\n        \"samples\": [\n          \"asparagus-green-onion-cucumber-and-herb-salad-241637\",\n          \"mushroom-and-fontina-quiche-355191\",\n          \"grill-roasted-pineapple\"\n        ],\n        \"semantic_type\": \"\",\n        \"description\": \"\"\n      }\n    }\n  ]\n}"
            }
          },
          "metadata": {},
          "execution_count": 18
        }
      ]
    },
    {
      "cell_type": "code",
      "source": [
        "recipes.iloc[0].ingredients"
      ],
      "metadata": {
        "colab": {
          "base_uri": "https://localhost:8080/",
          "height": 105
        },
        "id": "oKG-Z4M5ImVE",
        "outputId": "5da4f9cc-b6a6-4b6c-d264-321c079cd762"
      },
      "execution_count": null,
      "outputs": [
        {
          "output_type": "execute_result",
          "data": {
            "text/plain": [
              "'[\\'  whole chicken\\', \\' tsp. kosher salt, divided, plus more\\', \\' small acorn squash \\', \\' Tbsp. finely chopped sage\\', \\' Tbsp. finely chopped rosemary\\', \\' Tbsp. unsalted butter, melted, plus  Tbsp. room temperature\\', \\' tsp. ground allspice\\', \\'Pinch of crushed red pepper flakes\\', \\'Freshly ground black pepper\\', \\' loaf good-quality sturdy white bread, torn into \" pieces \\', \\' medium apples , cored, cut into \" pieces\\', \\' Tbsp. extra-virgin olive oil\\', \\' small red onion, thinly sliced\\', \\' Tbsp. apple cider vinegar\\', \\' Tbsp. white miso\\', \\' cup all-purpose flour\\', \\' Tbsp. unsalted butter, room temperature\\', \\' cup dry white wine\\', \\' cups unsalted chicken broth\\', \\' tsp. white miso\\', \\'Kosher salt, freshly ground pepper\\']'"
            ],
            "application/vnd.google.colaboratory.intrinsic+json": {
              "type": "string"
            }
          },
          "metadata": {},
          "execution_count": 19
        }
      ]
    },
    {
      "cell_type": "code",
      "source": [
        "def remove_metrics(text):\n",
        "    # Regular expression to remove numbers, fractions, and any following whitespace\n",
        "    #cleaned_text = re.sub(r'\\d', '', text)\n",
        "    # Regular expression to remove parentheses with content\n",
        "    #cleaned_text = re.sub(r'\\(.*?\\)', '', cleaned_text)\n",
        "    cleaned_text = text.replace(\"tsp\", \"\").replace(\"Tbsp\", \"\").replace(\".\",\"\").replace(\"cup\",\"\").replace(\"cups\",'')\n",
        "    return cleaned_text.strip()\n",
        "\n",
        "# Apply the function to each element in the list\n",
        "recipes['ingredients'] = [remove_metrics(item) for item in recipes['ingredients']]"
      ],
      "metadata": {
        "id": "YjSwNQiGJLhz"
      },
      "execution_count": null,
      "outputs": []
    },
    {
      "cell_type": "code",
      "source": [
        "recipes.iloc[0].ingredients"
      ],
      "metadata": {
        "colab": {
          "base_uri": "https://localhost:8080/",
          "height": 105
        },
        "id": "falD8QW9JoJU",
        "outputId": "a94b6f57-4f80-4bd3-824f-32b7924c6177"
      },
      "execution_count": null,
      "outputs": [
        {
          "output_type": "execute_result",
          "data": {
            "text/plain": [
              "'[\\'  whole chicken\\', \\'  kosher salt, divided, plus more\\', \\' small acorn squash \\', \\'  finely chopped sage\\', \\'  finely chopped rosemary\\', \\'  unsalted butter, melted, plus   room temperature\\', \\'  ground allspice\\', \\'Pinch of crushed red pepper flakes\\', \\'Freshly ground black pepper\\', \\' loaf good-quality sturdy white bread, torn into \" pieces \\', \\' medium apples , cored, cut into \" pieces\\', \\'  extra-virgin olive oil\\', \\' small red onion, thinly sliced\\', \\'  apple cider vinegar\\', \\'  white miso\\', \\'  all-purpose flour\\', \\'  unsalted butter, room temperature\\', \\'  dry white wine\\', \\' s unsalted chicken broth\\', \\'  white miso\\', \\'Kosher salt, freshly ground pepper\\']'"
            ],
            "application/vnd.google.colaboratory.intrinsic+json": {
              "type": "string"
            }
          },
          "metadata": {},
          "execution_count": 21
        }
      ]
    },
    {
      "cell_type": "code",
      "source": [
        "from sklearn.feature_extraction.text import CountVectorizer\n",
        "cv = CountVectorizer(max_features=5000,stop_words='english')"
      ],
      "metadata": {
        "id": "EDorYSgvMD47"
      },
      "execution_count": null,
      "outputs": []
    },
    {
      "cell_type": "code",
      "source": [
        "vectors = cv.fit_transform(recipes['ingredients']).toarray()"
      ],
      "metadata": {
        "id": "BnfWI7DBMdkD"
      },
      "execution_count": null,
      "outputs": []
    },
    {
      "cell_type": "code",
      "source": [
        "vectors"
      ],
      "metadata": {
        "colab": {
          "base_uri": "https://localhost:8080/"
        },
        "id": "R9JN0Qp5Mvgf",
        "outputId": "2920217e-bf9e-4db8-f927-c01f6f5e58f1"
      },
      "execution_count": null,
      "outputs": [
        {
          "output_type": "execute_result",
          "data": {
            "text/plain": [
              "array([[0, 0, 0, ..., 0, 0, 0],\n",
              "       [0, 0, 0, ..., 0, 0, 0],\n",
              "       [0, 0, 0, ..., 0, 0, 0],\n",
              "       ...,\n",
              "       [0, 0, 0, ..., 0, 0, 0],\n",
              "       [0, 0, 0, ..., 0, 0, 0],\n",
              "       [0, 0, 0, ..., 0, 0, 0]])"
            ]
          },
          "metadata": {},
          "execution_count": 24
        }
      ]
    },
    {
      "cell_type": "code",
      "source": [
        "from sklearn.feature_extraction.text import CountVectorizer\n",
        "\n",
        "cv = CountVectorizer(max_features=5000)\n",
        "cv.fit(recipes['ingredients'])\n",
        "\n",
        "feature_names = cv.get_feature_names_out()\n",
        "print(feature_names)"
      ],
      "metadata": {
        "colab": {
          "base_uri": "https://localhost:8080/"
        },
        "id": "bhJQBrdWM3-P",
        "outputId": "e23a1103-d646-42d9-a0e5-1fed9e8974f5"
      },
      "execution_count": null,
      "outputs": [
        {
          "output_type": "stream",
          "name": "stdout",
          "text": [
            "['_gravié_ra' 'aarons' 'aattachment' ... 'ﬁne' 'ﬁnely' 'ﬂour']\n"
          ]
        }
      ]
    },
    {
      "cell_type": "code",
      "source": [
        "from nltk.stem.porter import PorterStemmer\n",
        "ps = PorterStemmer()"
      ],
      "metadata": {
        "id": "sZIx5h1mOnMc"
      },
      "execution_count": null,
      "outputs": []
    },
    {
      "cell_type": "code",
      "source": [
        "def stem(text):\n",
        "  y = []\n",
        "\n",
        "  for i in text.split():\n",
        "    y.append(ps.stem(i))\n",
        "\n",
        "  return \" \".join(y)"
      ],
      "metadata": {
        "id": "RcDL1EbNO3hu"
      },
      "execution_count": null,
      "outputs": []
    },
    {
      "cell_type": "code",
      "source": [
        "recipes['ingredients'] = recipes['ingredients'].apply(stem)"
      ],
      "metadata": {
        "id": "zb1A8qZbPfqQ"
      },
      "execution_count": null,
      "outputs": []
    },
    {
      "cell_type": "code",
      "source": [
        "from sklearn.metrics.pairwise import cosine_similarity"
      ],
      "metadata": {
        "id": "Ox66ViEnQbdF"
      },
      "execution_count": null,
      "outputs": []
    },
    {
      "cell_type": "code",
      "source": [
        "cosine_similarity(vectors).shape"
      ],
      "metadata": {
        "colab": {
          "base_uri": "https://localhost:8080/"
        },
        "id": "_uhHCHfsQkbr",
        "outputId": "7e7f12c2-f390-416b-98d8-3498d6aeac1b"
      },
      "execution_count": null,
      "outputs": [
        {
          "output_type": "execute_result",
          "data": {
            "text/plain": [
              "(13496, 13496)"
            ]
          },
          "metadata": {},
          "execution_count": 30
        }
      ]
    },
    {
      "cell_type": "code",
      "source": [
        "similarity = cosine_similarity(vectors)"
      ],
      "metadata": {
        "id": "1VQZ6n-wQ2-u"
      },
      "execution_count": null,
      "outputs": []
    },
    {
      "cell_type": "code",
      "source": [
        "sorted(list(enumerate(similarity[0])),reverse=True, key=lambda x:x[1])[1:6]"
      ],
      "metadata": {
        "colab": {
          "base_uri": "https://localhost:8080/"
        },
        "id": "YivqwTjIRJxg",
        "outputId": "1528a540-e0f4-42a4-ae87-b827384727c9"
      },
      "execution_count": null,
      "outputs": [
        {
          "output_type": "execute_result",
          "data": {
            "text/plain": [
              "[(1283, 0.6562044563236563),\n",
              " (3408, 0.6143190654944868),\n",
              " (5178, 0.5995012171811742),\n",
              " (331, 0.5942321724388199),\n",
              " (881, 0.5827942371086194)]"
            ]
          },
          "metadata": {},
          "execution_count": 32
        }
      ]
    },
    {
      "cell_type": "code",
      "source": [
        "'''def recommend(recipe):\n",
        "  recipe_index = recipes[recipes['title'] == 'recipe'].index[0]\n",
        "  distances = similarity[recipe_index]\n",
        "  recipes_list = sorted(list(enumerate(distances)),reverse=True, key=lambda x:x[1])[1:6]\n",
        "\n",
        "  for i in recipes_list:\n",
        "    print(recipes.iloc[i(0)].title)'''"
      ],
      "metadata": {
        "id": "sehfy3J4RZPX"
      },
      "execution_count": null,
      "outputs": []
    },
    {
      "cell_type": "code",
      "source": [
        "def recommend(recipe):\n",
        "  if len(recipes) == 0:\n",
        "    print(\"The recipes DataFrame is empty. Cannot recommend any recipes.\")\n",
        "    return\n",
        "\n",
        "  recipe_index = recipes[recipes['title'] == recipe].index[0]\n",
        "  distances = similarity[recipe_index]\n",
        "  recipes_list = sorted(list(enumerate(distances)),reverse=True, key=lambda x:x[1])[1:6]\n",
        "\n",
        "  for i in recipes_list:\n",
        "    print(recipes.iloc[i[0]].title)"
      ],
      "metadata": {
        "id": "P2L753sAIlfU"
      },
      "execution_count": null,
      "outputs": []
    },
    {
      "cell_type": "code",
      "source": [
        "recommend('Apples and Oranges')"
      ],
      "metadata": {
        "colab": {
          "base_uri": "https://localhost:8080/"
        },
        "id": "hv5gDfvJUyzM",
        "outputId": "7797c9e7-86e8-4e5c-f0e1-32c24f7168a9"
      },
      "execution_count": null,
      "outputs": [
        {
          "output_type": "stream",
          "name": "stdout",
          "text": [
            "Newton's Law\n",
            "Applejack Sour\n",
            "Turmeric Hot Toddy\n",
            "Cherry-Bourbon Soda Can Cocktail\n",
            "Django Reinhardt\n"
          ]
        }
      ]
    }
  ]
}